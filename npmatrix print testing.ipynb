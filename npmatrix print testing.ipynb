{
 "cells": [
  {
   "cell_type": "code",
   "execution_count": 204,
   "metadata": {},
   "outputs": [],
   "source": [
    "from IPython.core.display import Markdown, display\n",
    "import numpy as np\n",
    "#import math \n",
    "\n",
    "\n",
    "def printmd(string:str):\n",
    "    '''\n",
    "    Markdown printout in Jupyter\n",
    "    ~~~~~~~~~~~~~~~~~~~~~~~~~~~~\n",
    "\n",
    "    prints a ``string`` that contains markdown (or more precisely, can contain markdown) in Jupyter cell output\n",
    "    '''\n",
    "    display(Markdown(string))\n",
    "\n",
    "def printMatrix(matrix:np.ndarray, decimals:int=None, name:str=None, maxSize:int=20):\n",
    "    '''\n",
    "    Matrix Markdown in Jupyter\n",
    "    ~~~~~~~~~~~~~~~~~~~~~~~~~~~~\n",
    "\n",
    "    prints a ``matrix:numpy.ndarray`` as Matrix in Jupyter cell output  \n",
    "      \n",
    "    using ``decimals`` decimal places for each element. None= use unformatted output.  \n",
    "    ``name`` can be specified to print name= before the matrix\n",
    "    ``maxSize`` can be specified to limit the columns/rows printed to maxSize elements. More rows/columns will be skipped indicated with ...\n",
    "      \n",
    "    List use: Both ``matrix`` and ``name`` can be a python list, preferably wit hthe same numbers of elements, to print multiple matrices at once.\n",
    "    \n",
    "    *Raises* \n",
    "    *  Exception if the matrix to print has more than two dimensions!\n",
    "    *  TypeError if the matrix is not an numpy.ndarray\n",
    "    '''\n",
    "    def oneMatrix(matr, name):\n",
    "        if isinstance(matr, np.ndarray):\n",
    "            if name!=None:\n",
    "                mdheader = f'$ {name} = \\\\begin{{bmatrix}}'\n",
    "            else:    \n",
    "                mdheader = '$ \\\\begin{bmatrix}'\n",
    "            mstr = ''\n",
    "            if len(matr.shape)==1:\n",
    "                matr = matr.reshape(matr.shape[0],1)\n",
    "            if len(matr.shape)>2:\n",
    "                raise Exception('cannot print more than two dimensions on a flat screen')\n",
    "            cskipat = matr.shape[1]+1\n",
    "            cskipto = matr.shape[1]+1\n",
    "            rskipat = matr.shape[0]+1\n",
    "            rskipto = matr.shape[0]+1\n",
    "            if matr.shape[1]>maxSize:\n",
    "                cskipat = maxSize-2\n",
    "                cskipto = matr.shape[1]-1\n",
    "            if matr.shape[0]>maxSize:\n",
    "                rskipat = maxSize-2\n",
    "                rskipto = matr.shape[0]-1\n",
    "            rskip=False\n",
    "            for row in range(matr.shape[0]):\n",
    "\n",
    "                if row>=rskipat and row<rskipto:\n",
    "                    if not rskip:\n",
    "                        # row to skip\n",
    "                        if cskipat!=cskipto: # there are columns to skip, too: Use diagonal dots\n",
    "                           mstr += \"\\\\vdots & \" * (maxSize-2) + ' \\\\ddots & \\\\vdots \\\\\\\\ '\n",
    "                        else:\n",
    "                            mstr += \"\\\\vdots & \" * (min(maxSize, matr.shape[1])-1) + ' \\\\vdots \\\\\\\\ '\n",
    "                        rskip=True\n",
    "                else:\n",
    "                    cskip=False\n",
    "                    for col in range(matr.shape[1]):\n",
    "                        # debug {\n",
    "                        #mstr += '[' + str(col) +'<=>' + str(cskipat) + ']'\n",
    "                        #debug }\n",
    "                        if col>=cskipat and col<cskipto:\n",
    "                            # column to skip\n",
    "                            if not cskip:\n",
    "                                mstr += \"\\cdots & \"\n",
    "                                cskip = True\n",
    "                        else:\n",
    "                            if decimals!=None:\n",
    "                                mstr += \"{{:.{}f}}\".format(decimals).format(matr[row][col])\n",
    "                            else:\n",
    "                                mstr += str(round(matr[row][col],15))\n",
    "                            if col<matr.shape[1]-1:\n",
    "                                mstr += ' & '\n",
    "                    if row<matr.shape[0]-1:\n",
    "                        mstr += ' \\\\\\\\ '\n",
    "            mdfooter = f' \\end{{bmatrix}}_{{Shape{matr.shape}}} $'\n",
    "            return mdheader+mstr+mdfooter\n",
    "        else:\n",
    "            # return (type(matr) + ' is not supported')\n",
    "            raise TypeError(Wrong type of matrix: only numpy.ndarray is supported.)\n",
    "            \n",
    "    if isinstance(matrix, list):\n",
    "        coll = ''\n",
    "        if isinstance(name, list):\n",
    "            if len(name)<len(matrix):\n",
    "                name = name + [None]*(len(matrix)-len(name))\n",
    "        else:\n",
    "            name = [name] + [None]*(len(matrix)-1)\n",
    "        for m,n in zip(matrix,name):\n",
    "            coll += oneMatrix(m,n)\n",
    "    else:\n",
    "        coll = oneMatrix(matrix,name)\n",
    "    printmd(coll)\n",
    "    #print(coll)    \n",
    "        \n"
   ]
  },
  {
   "cell_type": "code",
   "execution_count": 205,
   "metadata": {},
   "outputs": [
    {
     "data": {
      "text/markdown": [
       "$ \\gamma = \\begin{bmatrix}-0.5 & -1.0 & \\cdots & -0.8 \\\\ -1.0 & -1.2 & \\cdots & -0.7 \\\\ -0.9 & 0.6 & \\cdots & -1.8 \\end{bmatrix}_{Shape(3, 6)} $"
      ],
      "text/plain": [
       "<IPython.core.display.Markdown object>"
      ]
     },
     "metadata": {},
     "output_type": "display_data"
    }
   ],
   "source": [
    "printMatrix(np.random.randn(3, 6), 1, '\\gamma', 4)"
   ]
  },
  {
   "cell_type": "code",
   "execution_count": 206,
   "metadata": {},
   "outputs": [
    {
     "data": {
      "text/markdown": [
       "$ A = \\begin{bmatrix}-1.8 & 0.3 \\\\ -0.5 & 0.9 \\\\ 1.2 & -0.6 \\\\ -1.7 & 0.4 \\\\ 0.3 & -0.2 \\\\ -1.4 & -2.7 \\\\ -0.7 & -0.5 \\\\ -0.4 & 0.0 \\\\ 0.9 & 1.1 \\\\ -0.0 & -0.5 \\\\ 1.0 & -0.3 \\\\ -0.4 & -2.8 \\\\ 0.2 & -0.2 \\\\ -0.6 & 0.2 \\\\ -1.2 & -0.2 \\\\ 0.2 & 0.6 \\\\ 1.1 & 0.4 \\\\ -0.4 & 0.8 \\\\ 0.8 & 1.1 \\\\ -1.4 & -0.1 \\end{bmatrix}_{Shape(20, 2)} $$ B = \\begin{bmatrix}0.8 & -1.3 & 0.2 & -0.8 & -0.3 & -0.1 & 1.9 & -0.3 & 0.1 & 0.2 \\\\ 1.2 & -0.9 & 0.3 & -0.2 & 1.4 & 0.4 & 1.0 & -0.8 & 0.1 & -0.0 \\\\ -0.4 & -1.1 & -1.2 & -0.2 & -0.7 & 1.0 & 0.7 & 0.5 & 0.2 & -0.0 \\\\ -0.0 & -1.3 & -1.0 & -0.1 & 1.0 & 1.1 & -0.1 & -0.1 & 0.1 & -2.7 \\\\ -0.8 & 1.4 & 0.2 & 1.2 & 0.8 & 0.2 & -0.8 & 1.1 & 1.2 & -2.3 \\\\ -0.6 & -0.2 & -0.3 & 0.2 & -0.8 & 0.2 & 1.5 & -0.6 & -0.6 & -1.1 \\\\ -1.0 & -2.2 & 1.5 & -0.2 & 0.3 & 0.4 & -0.2 & 0.8 & -0.9 & 1.0 \\\\ -0.4 & 0.0 & 0.4 & -0.4 & -1.1 & -0.5 & -0.3 & -0.3 & -0.8 & -0.8 \\\\ -0.8 & -1.5 & -1.5 & -1.0 & 0.9 & 0.3 & 1.2 & -0.4 & -1.8 & 1.1 \\\\ 1.7 & 0.3 & 0.0 & 0.9 & 2.2 & 1.6 & -0.7 & -1.8 & 0.4 & 1.5 \\end{bmatrix}_{Shape(10, 10)} $"
      ],
      "text/plain": [
       "<IPython.core.display.Markdown object>"
      ]
     },
     "metadata": {},
     "output_type": "display_data"
    }
   ],
   "source": [
    "printMatrix([np.random.randn(20, 2), np.random.randn(10, 10)], 1, ['A','B','C'], maxSize=50)"
   ]
  },
  {
   "cell_type": "code",
   "execution_count": 273,
   "metadata": {},
   "outputs": [],
   "source": [
    "def matrixInfo(matrix:np.ndarray, name:str='A', verbose:bool=False):\n",
    "    if len(matrix.shape) in [1,2]:\n",
    "        printmd(f'## Overview for the {len(matrix.shape)}-dimensional matrix {name}')\n",
    "        printMatrix(matrix, name=name)\n",
    "    else:\n",
    "        printmd(f'## Overview for the {len(matrix.shape)}-dimensional matrix {name}')\n",
    "    eigval, eigvec = np.linalg.eig(matrix)\n",
    "    printmd('### Eigenvalues and corresponding eigenvectors')\n",
    "    if verbose:\n",
    "        printmd('Eigenvectors are the vectors (different from the nullvector) that are only _scaled_ by a transformation matrix operation _but not rotated_.  ')\n",
    "        printmd('The eigenvalues are the measure of scaling. Eigenvectors by numpy are normalized in length.  ')\n",
    "        printmd('There might not be a solution in real space, so the eigenvectors and eigenvalues can be complex vectors and numbers respectively.  ')\n",
    "        printmd('[Wikipedia link.](https://en.wikipedia.org/wiki/Eigenvalues_and_eigenvectors)  ')\n",
    "    printMatrix([eigvec[:,x] for x in range(eigvec.shape[0])], name=['v_{{{}}}'.format(x) for x in list(eigval)])\n",
    "    printmd('## Euclidian Norm (2nd)')\n",
    "    if verbose:\n",
    "        # https://en.wikipedia.org/wiki/Matrix_norm\n",
    "        printmd('[Wikipedia link.](https://en.wikipedia.org/wiki/Matrix_norm)  ')\n",
    "    printmd(f'$ {{\\|{name}\\|_2}} =' + str(np.linalg.norm(matrix))+'$')\n",
    "    printmd('### Determinant')\n",
    "    printmd(f'${{det}}_{{{name}}} = $' + str(np.linalg.det(matrix)))\n",
    "    printmd('### Rank')\n",
    "    if verbose: #\n",
    "        printmd('[Wikipedia link](https://en.wikipedia.org/wiki/Rank_(linear_algebra))')\n",
    "    r = np.linalg.matrix_rank(matrix)\n",
    "    printmd(f'$rank({name}) = $' + str(r))\n",
    "    if r==min(matrix.shape):\n",
    "        printmd('Matrix is FULL RANK')\n",
    "    printmd('### Inverse')\n",
    "    try:\n",
    "        i = np.linalg.inv(matrix)\n",
    "        printMatrix(i, name= f'{{{name}}}^{{-1}}')\n",
    "    except Exception as exc:\n",
    "        printmd('_there is no inverse to that matrix, or at least it could not be computed._')\n",
    "        print(exc)\n",
    "    \n",
    "    "
   ]
  },
  {
   "cell_type": "code",
   "execution_count": 277,
   "metadata": {},
   "outputs": [],
   "source": [
    "m = np.array([[1,0],[0,1]])"
   ]
  },
  {
   "cell_type": "code",
   "execution_count": 278,
   "metadata": {},
   "outputs": [
    {
     "data": {
      "text/markdown": [
       "## Overview for the 2-dimensional matrix A"
      ],
      "text/plain": [
       "<IPython.core.display.Markdown object>"
      ]
     },
     "metadata": {},
     "output_type": "display_data"
    },
    {
     "data": {
      "text/markdown": [
       "$ A = \\begin{bmatrix}1 & 0 \\\\ 0 & 1 \\end{bmatrix}_{Shape(2, 2)} $"
      ],
      "text/plain": [
       "<IPython.core.display.Markdown object>"
      ]
     },
     "metadata": {},
     "output_type": "display_data"
    },
    {
     "data": {
      "text/markdown": [
       "### Eigenvalues and corresponding eigenvectors"
      ],
      "text/plain": [
       "<IPython.core.display.Markdown object>"
      ]
     },
     "metadata": {},
     "output_type": "display_data"
    },
    {
     "data": {
      "text/markdown": [
       "$ v_{1.0} = \\begin{bmatrix}1.0 \\\\ 0.0 \\end{bmatrix}_{Shape(2, 1)} $$ v_{1.0} = \\begin{bmatrix}0.0 \\\\ 1.0 \\end{bmatrix}_{Shape(2, 1)} $"
      ],
      "text/plain": [
       "<IPython.core.display.Markdown object>"
      ]
     },
     "metadata": {},
     "output_type": "display_data"
    },
    {
     "data": {
      "text/markdown": [
       "## Euclidian Norm (2nd)"
      ],
      "text/plain": [
       "<IPython.core.display.Markdown object>"
      ]
     },
     "metadata": {},
     "output_type": "display_data"
    },
    {
     "data": {
      "text/markdown": [
       "$ {\\|A\\|_2} =1.4142135623730951$"
      ],
      "text/plain": [
       "<IPython.core.display.Markdown object>"
      ]
     },
     "metadata": {},
     "output_type": "display_data"
    },
    {
     "data": {
      "text/markdown": [
       "### Determinant"
      ],
      "text/plain": [
       "<IPython.core.display.Markdown object>"
      ]
     },
     "metadata": {},
     "output_type": "display_data"
    },
    {
     "data": {
      "text/markdown": [
       "${det}_{A} = $1.0"
      ],
      "text/plain": [
       "<IPython.core.display.Markdown object>"
      ]
     },
     "metadata": {},
     "output_type": "display_data"
    },
    {
     "data": {
      "text/markdown": [
       "### Rank"
      ],
      "text/plain": [
       "<IPython.core.display.Markdown object>"
      ]
     },
     "metadata": {},
     "output_type": "display_data"
    },
    {
     "data": {
      "text/markdown": [
       "$rank(A) = $2"
      ],
      "text/plain": [
       "<IPython.core.display.Markdown object>"
      ]
     },
     "metadata": {},
     "output_type": "display_data"
    },
    {
     "data": {
      "text/markdown": [
       "Matrix is FULL RANK"
      ],
      "text/plain": [
       "<IPython.core.display.Markdown object>"
      ]
     },
     "metadata": {},
     "output_type": "display_data"
    },
    {
     "data": {
      "text/markdown": [
       "### Inverse"
      ],
      "text/plain": [
       "<IPython.core.display.Markdown object>"
      ]
     },
     "metadata": {},
     "output_type": "display_data"
    },
    {
     "data": {
      "text/markdown": [
       "$ {A}^{-1} = \\begin{bmatrix}1.0 & 0.0 \\\\ 0.0 & 1.0 \\end{bmatrix}_{Shape(2, 2)} $"
      ],
      "text/plain": [
       "<IPython.core.display.Markdown object>"
      ]
     },
     "metadata": {},
     "output_type": "display_data"
    }
   ],
   "source": [
    "matrixInfo(m, verbose=False )"
   ]
  },
  {
   "cell_type": "code",
   "execution_count": 272,
   "metadata": {},
   "outputs": [
    {
     "data": {
      "text/plain": [
       "2"
      ]
     },
     "execution_count": 272,
     "metadata": {},
     "output_type": "execute_result"
    }
   ],
   "source": [
    "min(m.shape)"
   ]
  },
  {
   "cell_type": "code",
   "execution_count": null,
   "metadata": {},
   "outputs": [],
   "source": []
  },
  {
   "cell_type": "code",
   "execution_count": null,
   "metadata": {},
   "outputs": [],
   "source": []
  }
 ],
 "metadata": {
  "kernelspec": {
   "display_name": "Python 3",
   "language": "python",
   "name": "python3"
  },
  "language_info": {
   "codemirror_mode": {
    "name": "ipython",
    "version": 3
   },
   "file_extension": ".py",
   "mimetype": "text/x-python",
   "name": "python",
   "nbconvert_exporter": "python",
   "pygments_lexer": "ipython3",
   "version": "3.8.0"
  }
 },
 "nbformat": 4,
 "nbformat_minor": 4
}
