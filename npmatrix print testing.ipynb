{
 "cells": [
  {
   "cell_type": "code",
   "execution_count": 1,
   "metadata": {},
   "outputs": [],
   "source": [
    "from npmatrix_helper import matrixInfo, printMatrix\n",
    "import numpy as np"
   ]
  },
  {
   "cell_type": "code",
   "execution_count": 2,
   "metadata": {},
   "outputs": [
    {
     "output_type": "display_data",
     "data": {
      "text/plain": "&lt;IPython.core.display.Markdown object&gt;",
      "text/markdown": "$ \\gamma = \\begin{bmatrix}-0.1 & -0.2 \\\\ 0.3 & -0.7 \\end{bmatrix}_{Shape(2, 2)} $"
     },
     "metadata": {}
    }
   ],
   "source": [
    "printMatrix(np.random.randn(2, 2), decimals=1, name='\\gamma', maxSize=4)"
   ]
  },
  {
   "cell_type": "code",
   "execution_count": 3,
   "metadata": {},
   "outputs": [
    {
     "output_type": "display_data",
     "data": {
      "text/plain": "&lt;IPython.core.display.Markdown object&gt;",
      "text/markdown": "$ A = \\begin{bmatrix}-0.5 & -1.4 \\\\ -0.1 & 0.7 \\\\ -0.5 & -0.8 \\\\ \\vdots &  \\vdots \\\\ 1.0 & 1.2 \\end{bmatrix}_{Shape(20, 2)} $$ B = \\begin{bmatrix}-0.0 & -0.3 & 0.1 & \\cdots & 1.3 \\\\ 1.6 & 0.3 & -1.4 & \\cdots & 1.4 \\\\ 0.8 & -0.4 & -0.6 & \\cdots & -0.6 \\\\ \\vdots & \\vdots & \\vdots &  \\ddots & \\vdots \\\\ 0.8 & 0.9 & 1.2 & \\cdots & 1.5 \\end{bmatrix}_{Shape(10, 10)} $"
     },
     "metadata": {}
    }
   ],
   "source": [
    "printMatrix([np.random.randn(20, 2), np.random.randn(10, 10)], decimals=1, name=['A','B','C'], maxSize=5)"
   ]
  },
  {
   "cell_type": "code",
   "execution_count": 4,
   "metadata": {},
   "outputs": [],
   "source": [
    "m = np.random.randn(2, 2)"
   ]
  },
  {
   "cell_type": "code",
   "execution_count": 5,
   "metadata": {},
   "outputs": [
    {
     "output_type": "display_data",
     "data": {
      "text/plain": "&lt;IPython.core.display.Markdown object&gt;",
      "text/markdown": "## Overview for the 2-dimensional matrix A"
     },
     "metadata": {}
    },
    {
     "output_type": "display_data",
     "data": {
      "text/plain": "&lt;IPython.core.display.Markdown object&gt;",
      "text/markdown": "$ A = \\begin{bmatrix}-2.026845836860592 & -0.346640870955323 \\\\ 0.873208036018863 & -0.910597328742382 \\end{bmatrix}_{Shape(2, 2)} $"
     },
     "metadata": {}
    },
    {
     "output_type": "display_data",
     "data": {
      "text/plain": "&lt;IPython.core.display.Markdown object&gt;",
      "text/markdown": "### Eigenvalues and corresponding eigenvectors"
     },
     "metadata": {}
    },
    {
     "output_type": "display_data",
     "data": {
      "text/plain": "&lt;IPython.core.display.Markdown object&gt;",
      "text/markdown": "$ v_{-1.5625996358185117} = \\begin{bmatrix}-0.598293340999096 \\\\ 0.801277154370534 \\end{bmatrix}_{Shape(2, 1)} $$ v_{-1.3748435297844626} = \\begin{bmatrix}0.469434710874987 \\\\ -0.882967186381078 \\end{bmatrix}_{Shape(2, 1)} $"
     },
     "metadata": {}
    },
    {
     "output_type": "display_data",
     "data": {
      "text/plain": "&lt;IPython.core.display.Markdown object&gt;",
      "text/markdown": "## Euclidian Norm (2nd)"
     },
     "metadata": {}
    },
    {
     "output_type": "display_data",
     "data": {
      "text/plain": "&lt;IPython.core.display.Markdown object&gt;",
      "text/markdown": "$ {\\|A\\|_2} =2.4124559496696434$"
     },
     "metadata": {}
    },
    {
     "output_type": "display_data",
     "data": {
      "text/plain": "&lt;IPython.core.display.Markdown object&gt;",
      "text/markdown": "### Determinant"
     },
     "metadata": {}
    },
    {
     "output_type": "display_data",
     "data": {
      "text/plain": "&lt;IPython.core.display.Markdown object&gt;",
      "text/markdown": "${det}_{A} = $2.1483299989486384"
     },
     "metadata": {}
    },
    {
     "output_type": "display_data",
     "data": {
      "text/plain": "&lt;IPython.core.display.Markdown object&gt;",
      "text/markdown": "### Rank"
     },
     "metadata": {}
    },
    {
     "output_type": "display_data",
     "data": {
      "text/plain": "&lt;IPython.core.display.Markdown object&gt;",
      "text/markdown": "$rank(A) = $2"
     },
     "metadata": {}
    },
    {
     "output_type": "display_data",
     "data": {
      "text/plain": "&lt;IPython.core.display.Markdown object&gt;",
      "text/markdown": "Matrix is FULL RANK"
     },
     "metadata": {}
    },
    {
     "output_type": "display_data",
     "data": {
      "text/plain": "&lt;IPython.core.display.Markdown object&gt;",
      "text/markdown": "### Inverse"
     },
     "metadata": {}
    },
    {
     "output_type": "display_data",
     "data": {
      "text/plain": "&lt;IPython.core.display.Markdown object&gt;",
      "text/markdown": "$ {A}^{-1} = \\begin{bmatrix}-0.423862874506251 & 0.161353642654976 \\\\ -0.406458987421019 & -0.943451815062165 \\end{bmatrix}_{Shape(2, 2)} $"
     },
     "metadata": {}
    }
   ],
   "source": [
    "matrixInfo(m, verbose=False)"
   ]
  },
  {
   "cell_type": "code",
   "execution_count": 6,
   "metadata": {},
   "outputs": [
    {
     "output_type": "execute_result",
     "data": {
      "text/plain": "&quot;\\n========================\\nRandom Number Generation\\n========================\\n\\nUse ``default_rng()`` to create a `Generator` and call its methods.\\n\\n=============== =========================================================\\nGenerator\\n--------------- ---------------------------------------------------------\\nGenerator       Class implementing all of the random number distributions\\ndefault_rng     Default constructor for ``Generator``\\n=============== =========================================================\\n\\n============================================= ===\\nBitGenerator Streams that work with Generator\\n--------------------------------------------- ---\\nMT19937\\nPCG64\\nPhilox\\nSFC64\\n============================================= ===\\n\\n============================================= ===\\nGetting entropy to initialize a BitGenerator\\n--------------------------------------------- ---\\nSeedSequence\\n============================================= ===\\n\\n\\nLegacy\\n------\\n\\nFor backwards compatibility with previous versions of numpy before 1.17, the\\nvarious aliases to the global `RandomState` methods are left alone and do not\\nuse the new `Generator` API.\\n\\n==================== =========================================================\\nUtility functions\\n-------------------- ---------------------------------------------------------\\nrandom               Uniformly distributed floats over ``[0, 1)``\\nbytes                Uniformly distributed random bytes.\\npermutation          Randomly permute a sequence / generate a random sequence.\\nshuffle              Randomly permute a sequence in place.\\nchoice               Random sample from 1-D array.\\n==================== =========================================================\\n\\n==================== =========================================================\\nCompatibility\\nfunctions - removed\\nin the new API\\n-------------------- ---------------------------------------------------------\\nrand                 Uniformly distributed values.\\nrandn                Normally distributed values.\\nranf                 Uniformly distributed floating point numbers.\\nrandom_integers      Uniformly distributed integers in a given range.\\n                     (deprecated, use ``integers(..., closed=True)`` instead)\\nrandom_sample        Alias for `random_sample`\\nrandint              Uniformly distributed integers in a given range\\nseed                 Seed the legacy random number generator.\\n==================== =========================================================\\n\\n==================== =========================================================\\nUnivariate\\ndistributions\\n-------------------- ---------------------------------------------------------\\nbeta                 Beta distribution over ``[0, 1]``.\\nbinomial             Binomial distribution.\\nchisquare            :math:`\\\\chi^2` distribution.\\nexponential          Exponential distribution.\\nf                    F (Fisher-Snedecor) distribution.\\ngamma                Gamma distribution.\\ngeometric            Geometric distribution.\\ngumbel               Gumbel distribution.\\nhypergeometric       Hypergeometric distribution.\\nlaplace              Laplace distribution.\\nlogistic             Logistic distribution.\\nlognormal            Log-normal distribution.\\nlogseries            Logarithmic series distribution.\\nnegative_binomial    Negative binomial distribution.\\nnoncentral_chisquare Non-central chi-square distribution.\\nnoncentral_f         Non-central F distribution.\\nnormal               Normal / Gaussian distribution.\\npareto               Pareto distribution.\\npoisson              Poisson distribution.\\npower                Power distribution.\\nrayleigh             Rayleigh distribution.\\ntriangular           Triangular distribution.\\nuniform              Uniform distribution.\\nvonmises             Von Mises circular distribution.\\nwald                 Wald (inverse Gaussian) distribution.\\nweibull              Weibull distribution.\\nzipf                 Zipf&#39;s distribution over ranked data.\\n==================== =========================================================\\n\\n==================== ==========================================================\\nMultivariate\\ndistributions\\n-------------------- ----------------------------------------------------------\\ndirichlet            Multivariate generalization of Beta distribution.\\nmultinomial          Multivariate generalization of the binomial distribution.\\nmultivariate_normal  Multivariate generalization of the normal distribution.\\n==================== ==========================================================\\n\\n==================== =========================================================\\nStandard\\ndistributions\\n-------------------- ---------------------------------------------------------\\nstandard_cauchy      Standard Cauchy-Lorentz distribution.\\nstandard_exponential Standard exponential distribution.\\nstandard_gamma       Standard Gamma distribution.\\nstandard_normal      Standard normal distribution.\\nstandard_t           Standard Student&#39;s t-distribution.\\n==================== =========================================================\\n\\n==================== =========================================================\\nInternal functions\\n-------------------- ---------------------------------------------------------\\nget_state            Get tuple representing internal state of generator.\\nset_state            Set state of generator.\\n==================== =========================================================\\n\\n\\n&quot;"
     },
     "metadata": {},
     "execution_count": 6
    }
   ],
   "source": []
  },
  {
   "cell_type": "code",
   "execution_count": null,
   "metadata": {},
   "outputs": [],
   "source": []
  }
 ],
 "metadata": {
  "kernelspec": {
   "display_name": "Python 3",
   "language": "python",
   "name": "python3"
  },
  "language_info": {
   "codemirror_mode": {
    "name": "ipython",
    "version": 3
   },
   "file_extension": ".py",
   "mimetype": "text/x-python",
   "name": "python",
   "nbconvert_exporter": "python",
   "pygments_lexer": "ipython3",
   "version": "3.8.3-final"
  }
 },
 "nbformat": 4,
 "nbformat_minor": 4
}