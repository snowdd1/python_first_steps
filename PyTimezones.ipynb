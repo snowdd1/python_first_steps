{
 "metadata": {
  "language_info": {
   "codemirror_mode": {
    "name": "ipython",
    "version": 3
   },
   "file_extension": ".py",
   "mimetype": "text/x-python",
   "name": "python",
   "nbconvert_exporter": "python",
   "pygments_lexer": "ipython3",
   "version": "3.8.5-final"
  },
  "orig_nbformat": 2,
  "kernelspec": {
   "name": "Python 3.8.5 64-bit",
   "display_name": "Python 3.8.5 64-bit",
   "metadata": {
    "interpreter": {
     "hash": "31f2aee4e71d21fbe5cf8b01ff0e069b9275f58929596ceb00d14d90e3e16cd6"
    }
   }
  }
 },
 "nbformat": 4,
 "nbformat_minor": 2,
 "cells": [
  {
   "cell_type": "code",
   "execution_count": 2,
   "metadata": {
    "tags": []
   },
   "outputs": [
    {
     "output_type": "stream",
     "name": "stdout",
     "text": [
      "2020-10-14 17:26:29.620107\n2020-10-14 15:26:29.620179+00:00\n2020-10-14 17:26:29.620226+02:00\n"
     ]
    }
   ],
   "source": [
    "import datetime as dt\n",
    "dtdt = dt.datetime\n",
    "print(dtdt.now())\n",
    "print(dtdt.now(tz=dt.timezone.utc))\n",
    "print(dtdt.now(tz=dt.timezone(offset=dt.timedelta(hours=2), name='CEDT')))\n"
   ]
  },
  {
   "cell_type": "code",
   "execution_count": 3,
   "metadata": {},
   "outputs": [],
   "source": [
    "import pytz"
   ]
  },
  {
   "cell_type": "code",
   "execution_count": 4,
   "metadata": {},
   "outputs": [
    {
     "output_type": "execute_result",
     "data": {
      "text/plain": [
       "<DstTzInfo 'Europe/Berlin' LMT+0:53:00 STD>"
      ]
     },
     "metadata": {},
     "execution_count": 4
    }
   ],
   "source": [
    "pytz.timezone('Europe/Berlin')"
   ]
  },
  {
   "cell_type": "code",
   "execution_count": 5,
   "metadata": {},
   "outputs": [],
   "source": [
    "tz = pytz.timezone('CET')"
   ]
  },
  {
   "cell_type": "code",
   "execution_count": 6,
   "metadata": {
    "tags": []
   },
   "outputs": [],
   "source": [
    "nowits = tz.normalize(dtdt.now(tz=pytz.timezone('Europe/Berlin')))"
   ]
  },
  {
   "cell_type": "code",
   "execution_count": 7,
   "metadata": {},
   "outputs": [
    {
     "output_type": "execute_result",
     "data": {
      "text/plain": [
       "datetime.datetime(2020, 10, 14, 17, 26, 31, 830479, tzinfo=<DstTzInfo 'CET' CEST+2:00:00 DST>)"
      ]
     },
     "metadata": {},
     "execution_count": 7
    }
   ],
   "source": [
    "nowits"
   ]
  },
  {
   "cell_type": "code",
   "execution_count": 8,
   "metadata": {
    "tags": []
   },
   "outputs": [
    {
     "output_type": "stream",
     "name": "stdout",
     "text": [
      "2020-10-14 17:26:31.830479+02:00\n"
     ]
    }
   ],
   "source": [
    "print(nowits)"
   ]
  },
  {
   "cell_type": "code",
   "execution_count": 9,
   "metadata": {},
   "outputs": [
    {
     "output_type": "execute_result",
     "data": {
      "text/plain": [
       "datetime.datetime(2020, 10, 14, 9, 44, 11, tzinfo=tzlocal())"
      ]
     },
     "metadata": {},
     "execution_count": 9
    }
   ],
   "source": [
    "# parsing string dates with Timezones\n",
    "# Wed 2020-10-14 09:44:11 CEST\n",
    "\n",
    "import dateutil.parser as dp\n",
    "dp.parse('Wed 2020-10-14 09:44:11 CEST') #.utctimetuple()"
   ]
  },
  {
   "cell_type": "code",
   "execution_count": 37,
   "metadata": {},
   "outputs": [
    {
     "output_type": "execute_result",
     "data": {
      "text/plain": [
       "datetime.tzinfo"
      ]
     },
     "metadata": {},
     "execution_count": 37
    }
   ],
   "source": []
  },
  {
   "source": [
    ">>> import dateutil.parser as dp\n",
    ">>> s = 'Sat, 11/01/09 8:00PM'\n",
    ">>> for tz_code in ('PST','PDT','MST','MDT','CST','CDT','EST','EDT'):\n",
    ">>>     dt = s+' '+tz_code\n",
    ">>>     print dt, '=', dp.parse(dt, tzinfos=tzd)\n",
    "\n",
    "Sat, 11/01/09 8:00PM PST = 2009-11-01 20:00:00-08:00\n",
    "Sat, 11/01/09 8:00PM PDT = 2009-11-01 20:00:00-07:00\n",
    "Sat, 11/01/09 8:00PM MST = 2009-11-01 20:00:00-07:00\n",
    "Sat, 11/01/09 8:00PM MDT = 2009-11-01 20:00:00-06:00\n",
    "Sat, 11/01/09 8:00PM CST = 2009-11-01 20:00:00-06:00\n",
    "Sat, 11/01/09 8:00PM CDT = 2009-11-01 20:00:00-05:00\n",
    "Sat, 11/01/09 8:00PM EST = 2009-11-01 20:00:00-05:00\n",
    "Sat, 11/01/09 8:00PM EDT = 2009-11-01 20:00:00-04:00\n",
    "\n",
    "tz_str = '''-1 N AZOT CVT EGT\n",
    "0 Z EGST GMT UTC WET WT\n",
    "1 A CET DFT WAT WEDT WEST\n",
    "2 B CAT CEDT CEST EET SAST WAST\n",
    "3 C EAT EEDT EEST IDT MSK\n",
    "4 D AMT AZT GET GST KUYT MSD MUT RET SAMT SCT'''\n",
    "\n",
    "tzd = {}\n",
    "for tz_descr in map(str.split, tz_str.split('\\n')):\n",
    "    tz_offset = int(float(tz_descr[0]) * 3600)\n",
    "    for tz_code in tz_descr[1:]:\n",
    "        tzd[tz_code] = tz_offset"
   ],
   "cell_type": "code",
   "metadata": {},
   "execution_count": 10,
   "outputs": [
    {
     "output_type": "error",
     "ename": "SyntaxError",
     "evalue": "invalid syntax (<ipython-input-10-4477b3d673bd>, line 5)",
     "traceback": [
      "\u001b[0;36m  File \u001b[0;32m\"<ipython-input-10-4477b3d673bd>\"\u001b[0;36m, line \u001b[0;32m5\u001b[0m\n\u001b[0;31m    print dt, '=', dp.parse(dt, tzinfos=tzd)\u001b[0m\n\u001b[0m          ^\u001b[0m\n\u001b[0;31mSyntaxError\u001b[0m\u001b[0;31m:\u001b[0m invalid syntax\n"
     ]
    }
   ]
  },
  {
   "cell_type": "code",
   "execution_count": 15,
   "metadata": {},
   "outputs": [
    {
     "output_type": "execute_result",
     "data": {
      "text/plain": [
       "datetime.datetime(2020, 10, 14, 12, 32, 52, tzinfo=datetime.timezone(datetime.timedelta(seconds=7200), 'CEST'))"
      ]
     },
     "metadata": {},
     "execution_count": 15
    }
   ],
   "source": [
    "dtdt.fromtimestamp(1602671572).astimezone()"
   ]
  },
  {
   "cell_type": "code",
   "execution_count": 16,
   "metadata": {},
   "outputs": [
    {
     "output_type": "execute_result",
     "data": {
      "text/plain": [
       "datetime.datetime(2020, 10, 14, 10, 32, 52, tzinfo=datetime.timezone.utc)"
      ]
     },
     "metadata": {},
     "execution_count": 16
    }
   ],
   "source": [
    "dtdt.fromtimestamp(1602671572).astimezone(tz=dt.timezone.utc)"
   ]
  },
  {
   "cell_type": "code",
   "execution_count": null,
   "metadata": {},
   "outputs": [],
   "source": []
  }
 ]
}