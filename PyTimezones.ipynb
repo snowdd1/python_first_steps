{
 "metadata": {
  "language_info": {
   "codemirror_mode": {
    "name": "ipython",
    "version": 3
   },
   "file_extension": ".py",
   "mimetype": "text/x-python",
   "name": "python",
   "nbconvert_exporter": "python",
   "pygments_lexer": "ipython3",
   "version": 3
  },
  "orig_nbformat": 2,
  "kernelspec": {
   "name": "python_defaultSpec_1595597351833",
   "display_name": "Python 3.8.0 64-bit"
  }
 },
 "nbformat": 4,
 "nbformat_minor": 2,
 "cells": [
  {
   "cell_type": "code",
   "execution_count": 23,
   "metadata": {
    "tags": []
   },
   "outputs": [
    {
     "output_type": "stream",
     "name": "stdout",
     "text": "2020-07-24 15:55:54.742469\n2020-07-24 13:55:54.743470+00:00\n2020-07-24 15:55:54.743470+02:00\n"
    }
   ],
   "source": [
    "import datetime as dt\n",
    "dtdt = dt.datetime\n",
    "print(dtdt.now())\n",
    "print(dtdt.now(tz=dt.timezone.utc))\n",
    "print(dtdt.now(tz=dt.timezone(offset=dt.timedelta(hours=2), name='CEDT')))\n"
   ]
  },
  {
   "cell_type": "code",
   "execution_count": 24,
   "metadata": {},
   "outputs": [],
   "source": [
    "import pytz"
   ]
  },
  {
   "cell_type": "code",
   "execution_count": 27,
   "metadata": {},
   "outputs": [
    {
     "output_type": "execute_result",
     "data": {
      "text/plain": "<DstTzInfo 'Europe/Berlin' LMT+0:53:00 STD>"
     },
     "metadata": {},
     "execution_count": 27
    }
   ],
   "source": [
    "pytz.timezone('Europe/Berlin')"
   ]
  },
  {
   "cell_type": "code",
   "execution_count": 41,
   "metadata": {},
   "outputs": [],
   "source": [
    "tz = pytz.timezone('CET')"
   ]
  },
  {
   "cell_type": "code",
   "execution_count": 48,
   "metadata": {
    "tags": []
   },
   "outputs": [],
   "source": [
    "nowits = tz.normalize(dtdt.now(tz=pytz.timezone('Europe/Berlin')))"
   ]
  },
  {
   "cell_type": "code",
   "execution_count": 49,
   "metadata": {},
   "outputs": [
    {
     "output_type": "execute_result",
     "data": {
      "text/plain": "datetime.datetime(2020, 7, 24, 16, 16, 8, 367012, tzinfo=<DstTzInfo 'CET' CEST+2:00:00 DST>)"
     },
     "metadata": {},
     "execution_count": 49
    }
   ],
   "source": [
    "nowits"
   ]
  },
  {
   "cell_type": "code",
   "execution_count": 50,
   "metadata": {
    "tags": []
   },
   "outputs": [
    {
     "output_type": "stream",
     "name": "stdout",
     "text": "2020-07-24 16:16:08.367012+02:00\n"
    }
   ],
   "source": [
    "print(nowits)"
   ]
  },
  {
   "cell_type": "code",
   "execution_count": null,
   "metadata": {},
   "outputs": [],
   "source": []
  }
 ]
}